{
 "cells": [
  {
   "cell_type": "markdown",
   "id": "a8842076",
   "metadata": {},
   "source": [
    "## Create a Function, which takes three arguments, first argument should be dictionary, second argument should be integer, third argument should be another dictionary. \n",
    "## Based on the integer value (consider this as index, which starts at 0), insert new dictionary values at index position in first dictionary, and return new dictionary.\n",
    "Ex:\n",
    "## if {1:'One',2:'Two',3:'Three'}, 1, {4:'Four', 5:'Five', 6:'Six'} arguments are passed, \n",
    "### Because index 1 is given third parameter should be inserted at 1st index. \n",
    "### Note: Dictionary primary members are keys, not indexes, Dictionaries have no default insert method, so create one. \n",
    "### result should be {1:'One', 4:'Four', 5:'Five', 6:'Six', 2:'Two', 3:'Three'}. "
   ]
  },
  {
   "cell_type": "code",
   "execution_count": 82,
   "id": "c9908250",
   "metadata": {},
   "outputs": [],
   "source": [
    "def dict_1 (a = {1:'One',2:'Two',3:'Three'} , b = 1 , c = {4:'Four', 5:'Five', 6:'Six'} , d = {}):\n",
    "    while b==1:\n",
    "        c.update(a)\n",
    "        d[b]=a[b]\n",
    "        d.update(c)\n",
    "        print(d)\n",
    "        break"
   ]
  },
  {
   "cell_type": "code",
   "execution_count": 84,
   "id": "35ad0196",
   "metadata": {},
   "outputs": [
    {
     "name": "stdout",
     "output_type": "stream",
     "text": [
      "{1: 'One', 4: 'Four', 5: 'Five', 6: 'Six', 2: 'Two', 3: 'Three'}\n"
     ]
    }
   ],
   "source": [
    "dict_1()"
   ]
  }
 ],
 "metadata": {
  "kernelspec": {
   "display_name": "Python 3 (ipykernel)",
   "language": "python",
   "name": "python3"
  },
  "language_info": {
   "codemirror_mode": {
    "name": "ipython",
    "version": 3
   },
   "file_extension": ".py",
   "mimetype": "text/x-python",
   "name": "python",
   "nbconvert_exporter": "python",
   "pygments_lexer": "ipython3",
   "version": "3.9.13"
  }
 },
 "nbformat": 4,
 "nbformat_minor": 5
}
