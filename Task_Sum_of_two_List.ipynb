{
 "cells": [
  {
   "cell_type": "markdown",
   "id": "3d5c04c5",
   "metadata": {},
   "source": [
    "Instructions:\n",
    "1. While calculating the difference use bigger number first then smaller number next, if both are equal you can use any. \n",
    "2. Do not use abs() method to make numbers positive, Follow first instruction. \n",
    "3. This is Level 0 question (Very Easy/Basic)\n",
    "Ex: Given list1 = [5,12,5,6,2,6,7,8] and list2 = [6,4,3,8,1,2,4,6], answer should be (6-5)+(12-4)+(5-3)+(8-6)+(2-1)+(6-2)+(7-4)+(8-6) = 23"
   ]
  },
  {
   "cell_type": "code",
   "execution_count": 17,
   "id": "8e467728",
   "metadata": {},
   "outputs": [
    {
     "name": "stdout",
     "output_type": "stream",
     "text": [
      "1+6+7+4+5+4+8+9+15+15+\n",
      "Sum of Difference of l1 and l2 = 74\n"
     ]
    }
   ],
   "source": [
    "l= 0\n",
    "l1 = [2,4,6,8,10,12,14,16,18,20]\n",
    "l2 = [1,10,13,4,5,16,22,7,3,5]\n",
    "for i in range(len(l1)):\n",
    "    if l1[i]>l2[i]:\n",
    "        l1_max = l1[i]-l2[i]\n",
    "        print(l1_max,end='+')\n",
    "        l = l + l1_max\n",
    "    else:\n",
    "        l2_max = l2[i]-l1[i]\n",
    "        print(l2_max,end='+')\n",
    "        l = l + l2_max\n",
    "        \n",
    "print('\\nSum of Difference of l1 and l2 =',l)"
   ]
  }
 ],
 "metadata": {
  "kernelspec": {
   "display_name": "Python 3 (ipykernel)",
   "language": "python",
   "name": "python3"
  },
  "language_info": {
   "codemirror_mode": {
    "name": "ipython",
    "version": 3
   },
   "file_extension": ".py",
   "mimetype": "text/x-python",
   "name": "python",
   "nbconvert_exporter": "python",
   "pygments_lexer": "ipython3",
   "version": "3.9.13"
  }
 },
 "nbformat": 4,
 "nbformat_minor": 5
}
