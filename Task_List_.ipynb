{
 "cells": [
  {
   "cell_type": "markdown",
   "id": "d4a8dd84",
   "metadata": {},
   "source": [
    "Create a Function which takes two lists as parameters, check whether two lists of same length, if not same length return not same lenght. otherwise sort the first list in ascending order and also sort the second list in liue of list 1\n",
    "Ex:\n",
    "Suppose l1 = [6,10,2,13,45,67,32,1] and l2 = [8,3,9,12,54,322,98,54]\n",
    "sort the first list in ascending order l1_sorted = [1,2,6,10,13,32,45,67]\n",
    "and list2 should be l2_updated as = [54,9,8,3,12,98,54, 322]\n",
    "\n",
    "Rules to update List 2:\n",
    "1. List2 element order should be according to l1_sorted index. \n",
    "2. First value in l1_sorted is 1, before sorting index of 1 is 7, so list2_updated first value is 54, which is 7th index before updating\n",
    "3. Second value in l1_sorted is 2, before sorting index of 2 is 2,  so list2_updated second value is 9 which is second index before updating\n",
    "4. Third value in l1_sorted is 6, before sorting index of 6 is 0, so list2_updated third value is 8 which is 0th index before updating. \n",
    "Similarly, update All the values of list2 by corresponding index values of list1 after sorting."
   ]
  },
  {
   "cell_type": "code",
   "execution_count": 80,
   "id": "2bd8075d",
   "metadata": {},
   "outputs": [
    {
     "name": "stdout",
     "output_type": "stream",
     "text": [
      "[1, 2, 6, 10, 13, 32, 45, 67]\n",
      "[8, 3, 9, 12, 54, 322, 98, 54]\n"
     ]
    }
   ],
   "source": [
    "l1 = [6,10,2,13,45,67,32,1]\n",
    "l2 = [8,3,9,12,54,322,98,54]\n",
    "l1_sort = sorted(l1)\n",
    "l2_update = []\n",
    "for i in l1:\n",
    "    if len(l1) == len(l2):\n",
    "        print(l1_sort)\n",
    "        break\n",
    "    else:\n",
    "        print(\"Not same length\")\n",
    "for i in l2:\n",
    "    l1_sort[0] = l2[4]\n",
    "    print(l2)\n",
    "    break"
   ]
  },
  {
   "cell_type": "code",
   "execution_count": null,
   "id": "6859bcc2",
   "metadata": {},
   "outputs": [],
   "source": []
  },
  {
   "cell_type": "code",
   "execution_count": null,
   "id": "cef35098",
   "metadata": {},
   "outputs": [],
   "source": []
  }
 ],
 "metadata": {
  "kernelspec": {
   "display_name": "Python 3 (ipykernel)",
   "language": "python",
   "name": "python3"
  },
  "language_info": {
   "codemirror_mode": {
    "name": "ipython",
    "version": 3
   },
   "file_extension": ".py",
   "mimetype": "text/x-python",
   "name": "python",
   "nbconvert_exporter": "python",
   "pygments_lexer": "ipython3",
   "version": "3.9.13"
  }
 },
 "nbformat": 4,
 "nbformat_minor": 5
}
